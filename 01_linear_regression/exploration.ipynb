{
 "cells": [
  {
   "cell_type": "code",
   "execution_count": 4,
   "id": "6236199e",
   "metadata": {},
   "outputs": [],
   "source": [
    "# Cell 1\n",
    "import numpy as np\n",
    "import matplotlib.pyplot as plt\n",
    "%matplotlib inline"
   ]
  },
  {
   "cell_type": "code",
   "execution_count": 3,
   "id": "d4750993",
   "metadata": {},
   "outputs": [],
   "source": [
    "from linear_regression import LinearRegression"
   ]
  },
  {
   "cell_type": "code",
   "execution_count": 5,
   "id": "37664ed1",
   "metadata": {},
   "outputs": [
    {
     "name": "stdout",
     "output_type": "stream",
     "text": [
      "Iteration 0, Cost: 8900.0\n",
      "Iteration 100, Cost: 66.96906047780024\n",
      "Iteration 200, Cost: 47.743762107576345\n",
      "Iteration 300, Cost: 34.03761091149862\n",
      "Iteration 400, Cost: 24.266184846349212\n",
      "Iteration 500, Cost: 17.299913572907688\n",
      "Iteration 600, Cost: 12.333500775879248\n",
      "Iteration 700, Cost: 8.79283244667947\n",
      "Iteration 800, Cost: 6.268609686763332\n",
      "Iteration 900, Cost: 4.469034027803212\n",
      "Learned equation: y = 21.16x + 25.82\n"
     ]
    }
   ],
   "source": [
    "# Create the simplest data possible\n",
    "# Years of experience\n",
    "X = np.array([[1], [2], [3], [4], [5]])\n",
    "\n",
    "# Salary (in 10000s) - roughly 20k per year of experience + 30k base\n",
    "y = np.array([[50], [70], [90], [110], [130]])\n",
    "\n",
    "# Create and train our model\n",
    "model = LinearRegression(learning_rate=0.01, n_iterations=1000)\n",
    "model.fit(X, y)\n",
    "\n",
    "# See what it learned!\n",
    "print(f\"Learned equation: y = {model.theta[1][0]:.2f}x + {model.theta[0][0]:.2f}\")"
   ]
  }
 ],
 "metadata": {
  "kernelspec": {
   "display_name": "ml_from_scratch",
   "language": "python",
   "name": "python3"
  },
  "language_info": {
   "codemirror_mode": {
    "name": "ipython",
    "version": 3
   },
   "file_extension": ".py",
   "mimetype": "text/x-python",
   "name": "python",
   "nbconvert_exporter": "python",
   "pygments_lexer": "ipython3",
   "version": "3.11.13"
  }
 },
 "nbformat": 4,
 "nbformat_minor": 5
}
